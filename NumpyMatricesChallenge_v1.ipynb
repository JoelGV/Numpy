{
  "nbformat": 4,
  "nbformat_minor": 0,
  "metadata": {
    "colab": {
      "name": "NumpyMatricesChallenge_v1.ipynb",
      "provenance": [],
      "collapsed_sections": [],
      "include_colab_link": true
    },
    "language_info": {
      "codemirror_mode": {
        "name": "ipython",
        "version": 3
      },
      "file_extension": ".py",
      "mimetype": "text/x-python",
      "name": "python",
      "nbconvert_exporter": "python",
      "pygments_lexer": "ipython3",
      "version": "3.5.2"
    },
    "kernelspec": {
      "display_name": "Python [default]",
      "language": "python",
      "name": "python3"
    }
  },
  "cells": [
    {
      "cell_type": "markdown",
      "metadata": {
        "id": "view-in-github",
        "colab_type": "text"
      },
      "source": [
        "<a href=\"https://colab.research.google.com/github/JoelGV/Numpy/blob/master/NumpyMatricesChallenge_v1.ipynb\" target=\"_parent\"><img src=\"https://colab.research.google.com/assets/colab-badge.svg\" alt=\"Open In Colab\"/></a>"
      ]
    },
    {
      "cell_type": "markdown",
      "metadata": {
        "deletable": true,
        "editable": true,
        "id": "R7Iv95QoJzTk",
        "colab_type": "text"
      },
      "source": [
        "# Numpy matrices challenge"
      ]
    },
    {
      "cell_type": "markdown",
      "metadata": {
        "deletable": true,
        "editable": true,
        "id": "6q1JRLh6JzTl",
        "colab_type": "text"
      },
      "source": [
        "En este ejercicio aplicarás los conceptos de las operaciones con vectores y matrices utilizando la biblioteca numpy"
      ]
    },
    {
      "cell_type": "code",
      "metadata": {
        "deletable": true,
        "editable": true,
        "id": "6WRNOv6xJzTm",
        "colab_type": "code",
        "colab": {}
      },
      "source": [
        "import numpy as np"
      ],
      "execution_count": 0,
      "outputs": []
    },
    {
      "cell_type": "code",
      "metadata": {
        "deletable": true,
        "editable": true,
        "id": "HPiIQ_wAJzTp",
        "colab_type": "code",
        "colab": {}
      },
      "source": [
        "def acertijo_de_vectores(inputs):\n",
        "    # Crea un arreglo 2-dimensional dada el vector de 1-dimensión\n",
        "    #     inputs y asigna la matriz a la variable input_array\n",
        "    input_array = inputs.reshape(1,3) #convertimos a una matriz de 1 fila y 3 columnas, otra opción \n",
        "                                      #sería inputs.reshape(3,1): 3 filas y 1 columna\n",
        "    \n",
        "    # Encuentra el mínimo valor en input_array y restalo a \n",
        "    #     cada elemento del arreglo input_array. Guarda el\n",
        "    #     valor en in input_minus_min\n",
        "    input_minus_min = input_array - np.amin(input_array)  #operación elemento x elemento\n",
        "\n",
        "    # Encuentra el maximo valor en input_minus_min y divide\n",
        "    #     todos los elementos de input_minus_min por su máximo valor.\n",
        "    #     Guarda el resultado en input_div_max.\n",
        "    input_div_max = input_minus_min / np.amax(input_minus_min) #los métodos en numpy son intiuitivos\n",
        "\n",
        "    # Regresa los tres arreglos que se han creado\n",
        "    return input_array, input_minus_min, input_div_max"
      ],
      "execution_count": 0,
      "outputs": []
    },
    {
      "cell_type": "code",
      "metadata": {
        "deletable": true,
        "editable": true,
        "id": "za-JkS42JzTr",
        "colab_type": "code",
        "outputId": "e58144f3-503b-4ae0-d413-98046c4cbb98",
        "colab": {
          "base_uri": "https://localhost:8080/",
          "height": 69
        }
      },
      "source": [
        "#Evaluación de la funcion acertijo_de_vectores\n",
        "arreglo = np.array([-1,2,7])\n",
        "input_array, input_minus_min, input_div_max = acertijo_de_vectores(arreglo)\n",
        "\n",
        "print(\"El vector como matriz: {}\".format(input_array))\n",
        "print(\"La variable inputs_minus_min: {}\".format(input_minus_min))\n",
        "print(\"La variable inputs_div_max: {}\".format(input_div_max))"
      ],
      "execution_count": 0,
      "outputs": [
        {
          "output_type": "stream",
          "text": [
            "El vector como matriz: [[-1  2  7]]\n",
            "La variable inputs_minus_min: [[0 3 8]]\n",
            "La variable inputs_div_max: [[0.    0.375 1.   ]]\n"
          ],
          "name": "stdout"
        }
      ]
    },
    {
      "cell_type": "code",
      "metadata": {
        "deletable": true,
        "editable": true,
        "id": "EOvAkSN6JzTv",
        "colab_type": "code",
        "colab": {}
      },
      "source": [
        "def multiplica_mi_matriz(m1, m2):\n",
        "    # Evalua las dimensiones de las matrices m1 y m2.\n",
        "    #       Regresa falso si sus formas no pueden multiplicarse\n",
        "    #       Si las formas de las matrices son válidas entonces\n",
        "    #       calcula el producto matricial de m1 y m2 y regresa el resultado.\n",
        "    #       Nota: No se puede usar la transpuesta de las matrices\n",
        "    if m1.shape[1] == m2.shape[0]: #el numero de columnas en m1 debe ser igual al numero de filas de m2\n",
        "      operacion = np.matmul(m1,m2)\n",
        "      return operacion\n",
        "    else:\n",
        "      return False"
      ],
      "execution_count": 0,
      "outputs": []
    },
    {
      "cell_type": "code",
      "metadata": {
        "id": "d3gcgJs4J8-W",
        "colab_type": "code",
        "outputId": "bcfc5486-600a-4da2-8d0c-fdfc4858d017",
        "colab": {
          "base_uri": "https://localhost:8080/",
          "height": 139
        }
      },
      "source": [
        "#Evaluación de la función multiplica_mi_matriz\n",
        "print(\"Multiplicación 1:\\n{}\".format(multiplica_mi_matriz(np.array([[1,2,3],[4,5,6]]), np.array([[1],[2],[3],[4]]))))\n",
        "print(\"Multiplicación 2:\\n{}\".format(multiplica_mi_matriz(np.array([[1,2,3],[4,5,6]]), np.array([[1],[2],[3]]))))\n",
        "print(\"Multiplicación 3:\\n{}\".format(multiplica_mi_matriz(np.array([[1,2,3],[4,5,6]]), np.array([[1,2]]))))"
      ],
      "execution_count": 19,
      "outputs": [
        {
          "output_type": "stream",
          "text": [
            "Multiplicación 1:\n",
            "False\n",
            "Multiplicación 2:\n",
            "[[14]\n",
            " [32]]\n",
            "Multiplicación 3:\n",
            "False\n"
          ],
          "name": "stdout"
        }
      ]
    },
    {
      "cell_type": "code",
      "metadata": {
        "deletable": true,
        "editable": true,
        "id": "FdESPtj0JzTy",
        "colab_type": "code",
        "colab": {}
      },
      "source": [
        "def encuentra_la_media(vector):\n",
        "    # Regresa la media de los valores en el vector dado\n",
        "    mean = np.mean(vector)\n",
        "    return mean"
      ],
      "execution_count": 0,
      "outputs": []
    },
    {
      "cell_type": "code",
      "metadata": {
        "deletable": true,
        "editable": true,
        "colab_type": "code",
        "id": "te5tqEv9lmjv",
        "outputId": "a22d449e-a9c8-402d-e672-96ac8b4c5c21",
        "colab": {
          "base_uri": "https://localhost:8080/",
          "height": 35
        }
      },
      "source": [
        "#Evaluación de la función encuentra_la_media\n",
        "valores = np.array([1,3,4])\n",
        "print(\"Media = {}\".format(encuentra_la_media(valores)))"
      ],
      "execution_count": 0,
      "outputs": [
        {
          "output_type": "stream",
          "text": [
            "Media = 2.6666666666666665\n"
          ],
          "name": "stdout"
        }
      ]
    }
  ]
}